{
 "cells": [
  {
   "cell_type": "markdown",
   "metadata": {},
   "source": [
    "# Dataframe Manipulation Warmup"
   ]
  },
  {
   "cell_type": "code",
   "execution_count": 1,
   "metadata": {},
   "outputs": [],
   "source": [
    "import numpy as np\n",
    "import pandas as pd\n",
    "\n",
    "np.random.seed(406)\n",
    "\n",
    "n = 5000\n",
    "df = pd.DataFrame({\n",
    "    'favorite_animal': np.random.choice(['cat', 'dog', 'frog', 'lemur', 'panda'], n),\n",
    "    'favorite_vegetable': np.random.choice(['brussel sprouts', 'potato', 'squash'], n),\n",
    "    'favorite_fruit': np.random.choice(['banana', 'apple', 'blueberries'], n),\n",
    "    'wears_glasses': np.random.choice(['yes', 'no'], n),\n",
    "    'netflix_consumption': np.random.normal(10, 2, n),\n",
    "    'open_browser_tabs': np.random.randint(2, 90, n),\n",
    "})"
   ]
  },
  {
   "cell_type": "code",
   "execution_count": 2,
   "metadata": {},
   "outputs": [
    {
     "data": {
      "text/html": [
       "<div>\n",
       "<style scoped>\n",
       "    .dataframe tbody tr th:only-of-type {\n",
       "        vertical-align: middle;\n",
       "    }\n",
       "\n",
       "    .dataframe tbody tr th {\n",
       "        vertical-align: top;\n",
       "    }\n",
       "\n",
       "    .dataframe thead th {\n",
       "        text-align: right;\n",
       "    }\n",
       "</style>\n",
       "<table border=\"1\" class=\"dataframe\">\n",
       "  <thead>\n",
       "    <tr style=\"text-align: right;\">\n",
       "      <th></th>\n",
       "      <th>favorite_animal</th>\n",
       "      <th>favorite_vegetable</th>\n",
       "      <th>favorite_fruit</th>\n",
       "      <th>wears_glasses</th>\n",
       "      <th>netflix_consumption</th>\n",
       "      <th>open_browser_tabs</th>\n",
       "    </tr>\n",
       "  </thead>\n",
       "  <tbody>\n",
       "    <tr>\n",
       "      <th>0</th>\n",
       "      <td>lemur</td>\n",
       "      <td>potato</td>\n",
       "      <td>apple</td>\n",
       "      <td>yes</td>\n",
       "      <td>8.313351</td>\n",
       "      <td>44</td>\n",
       "    </tr>\n",
       "    <tr>\n",
       "      <th>1</th>\n",
       "      <td>panda</td>\n",
       "      <td>potato</td>\n",
       "      <td>apple</td>\n",
       "      <td>yes</td>\n",
       "      <td>11.801073</td>\n",
       "      <td>10</td>\n",
       "    </tr>\n",
       "    <tr>\n",
       "      <th>2</th>\n",
       "      <td>cat</td>\n",
       "      <td>squash</td>\n",
       "      <td>blueberries</td>\n",
       "      <td>yes</td>\n",
       "      <td>10.105141</td>\n",
       "      <td>35</td>\n",
       "    </tr>\n",
       "    <tr>\n",
       "      <th>3</th>\n",
       "      <td>lemur</td>\n",
       "      <td>squash</td>\n",
       "      <td>apple</td>\n",
       "      <td>no</td>\n",
       "      <td>11.024605</td>\n",
       "      <td>70</td>\n",
       "    </tr>\n",
       "    <tr>\n",
       "      <th>4</th>\n",
       "      <td>dog</td>\n",
       "      <td>brussel sprouts</td>\n",
       "      <td>apple</td>\n",
       "      <td>yes</td>\n",
       "      <td>6.732698</td>\n",
       "      <td>73</td>\n",
       "    </tr>\n",
       "  </tbody>\n",
       "</table>\n",
       "</div>"
      ],
      "text/plain": [
       "  favorite_animal favorite_vegetable favorite_fruit wears_glasses  \\\n",
       "0           lemur             potato          apple           yes   \n",
       "1           panda             potato          apple           yes   \n",
       "2             cat             squash    blueberries           yes   \n",
       "3           lemur             squash          apple            no   \n",
       "4             dog    brussel sprouts          apple           yes   \n",
       "\n",
       "   netflix_consumption  open_browser_tabs  \n",
       "0             8.313351                 44  \n",
       "1            11.801073                 10  \n",
       "2            10.105141                 35  \n",
       "3            11.024605                 70  \n",
       "4             6.732698                 73  "
      ]
     },
     "execution_count": 2,
     "metadata": {},
     "output_type": "execute_result"
    }
   ],
   "source": [
    "df.head()"
   ]
  },
  {
   "cell_type": "code",
   "execution_count": 3,
   "metadata": {},
   "outputs": [
    {
     "name": "stdout",
     "output_type": "stream",
     "text": [
      "<class 'pandas.core.frame.DataFrame'>\n",
      "RangeIndex: 5000 entries, 0 to 4999\n",
      "Data columns (total 6 columns):\n",
      "favorite_animal        5000 non-null object\n",
      "favorite_vegetable     5000 non-null object\n",
      "favorite_fruit         5000 non-null object\n",
      "wears_glasses          5000 non-null object\n",
      "netflix_consumption    5000 non-null float64\n",
      "open_browser_tabs      5000 non-null int64\n",
      "dtypes: float64(1), int64(1), object(4)\n",
      "memory usage: 234.5+ KB\n"
     ]
    }
   ],
   "source": [
    "df.info()"
   ]
  },
  {
   "cell_type": "code",
   "execution_count": 4,
   "metadata": {},
   "outputs": [
    {
     "data": {
      "text/plain": [
       "favorite_animal         object\n",
       "favorite_vegetable      object\n",
       "favorite_fruit          object\n",
       "wears_glasses           object\n",
       "netflix_consumption    float64\n",
       "open_browser_tabs        int64\n",
       "dtype: object"
      ]
     },
     "execution_count": 4,
     "metadata": {},
     "output_type": "execute_result"
    }
   ],
   "source": [
    "df.dtypes"
   ]
  },
  {
   "cell_type": "code",
   "execution_count": 5,
   "metadata": {},
   "outputs": [
    {
     "data": {
      "text/plain": [
       "(5000, 6)"
      ]
     },
     "execution_count": 5,
     "metadata": {},
     "output_type": "execute_result"
    }
   ],
   "source": [
    "df.shape"
   ]
  },
  {
   "cell_type": "markdown",
   "metadata": {},
   "source": [
    "- What is the highest amount of netflix consumption? `17.535`"
   ]
  },
  {
   "cell_type": "code",
   "execution_count": 6,
   "metadata": {},
   "outputs": [
    {
     "data": {
      "text/plain": [
       "17.534818515438925"
      ]
     },
     "execution_count": 6,
     "metadata": {},
     "output_type": "execute_result"
    }
   ],
   "source": [
    "df.netflix_consumption.max()"
   ]
  },
  {
   "cell_type": "markdown",
   "metadata": {},
   "source": [
    "- How many people wear glasses? What percentage of people is this? `2555`, `.511`"
   ]
  },
  {
   "cell_type": "code",
   "execution_count": 7,
   "metadata": {},
   "outputs": [
    {
     "data": {
      "text/plain": [
       "2555"
      ]
     },
     "execution_count": 7,
     "metadata": {},
     "output_type": "execute_result"
    }
   ],
   "source": [
    "df[df.wears_glasses == 'yes'].shape[0]"
   ]
  },
  {
   "cell_type": "code",
   "execution_count": 10,
   "metadata": {},
   "outputs": [
    {
     "data": {
      "text/plain": [
       "yes    0.511\n",
       "no     0.489\n",
       "Name: wears_glasses, dtype: float64"
      ]
     },
     "execution_count": 10,
     "metadata": {},
     "output_type": "execute_result"
    }
   ],
   "source": [
    "df.wears_glasses.value_counts(normalize = True)"
   ]
  },
  {
   "cell_type": "markdown",
   "metadata": {},
   "source": [
    "- How many people's favorite animal is a dog? `1002`"
   ]
  },
  {
   "cell_type": "code",
   "execution_count": 12,
   "metadata": {},
   "outputs": [
    {
     "data": {
      "text/plain": [
       "1002"
      ]
     },
     "execution_count": 12,
     "metadata": {},
     "output_type": "execute_result"
    }
   ],
   "source": [
    "(df.favorite_animal == 'dog').sum()"
   ]
  },
  {
   "cell_type": "markdown",
   "metadata": {},
   "source": [
    "- What is the most common favorite animal? `lemur`"
   ]
  },
  {
   "cell_type": "code",
   "execution_count": 13,
   "metadata": {},
   "outputs": [
    {
     "data": {
      "text/plain": [
       "lemur    1028\n",
       "frog     1015\n",
       "dog      1002\n",
       "cat       980\n",
       "panda     975\n",
       "Name: favorite_animal, dtype: int64"
      ]
     },
     "execution_count": 13,
     "metadata": {},
     "output_type": "execute_result"
    }
   ],
   "source": [
    "df.favorite_animal.value_counts()"
   ]
  },
  {
   "cell_type": "markdown",
   "metadata": {},
   "source": [
    "- What is the average netflix consumption for people that prefer brussel\n",
    "  sprouts? `10.008`"
   ]
  },
  {
   "cell_type": "code",
   "execution_count": 16,
   "metadata": {},
   "outputs": [
    {
     "data": {
      "text/plain": [
       "10.00847154798366"
      ]
     },
     "execution_count": 16,
     "metadata": {},
     "output_type": "execute_result"
    }
   ],
   "source": [
    "df[df.favorite_vegetable == 'brussel sprouts'] # know thew colomns are the right way\n",
    "df[df.favorite_vegetable == 'brussel sprouts'].netflix_consumption.mean()"
   ]
  },
  {
   "cell_type": "markdown",
   "metadata": {},
   "source": [
    "- What is the most common favorite fruit for people who wear glasses and have\n",
    "  more than 40 open browser tabs? `blueberries`"
   ]
  },
  {
   "cell_type": "code",
   "execution_count": 22,
   "metadata": {},
   "outputs": [
    {
     "data": {
      "text/plain": [
       "blueberries    498\n",
       "apple          477\n",
       "banana         472\n",
       "Name: favorite_fruit, dtype: int64"
      ]
     },
     "execution_count": 22,
     "metadata": {},
     "output_type": "execute_result"
    }
   ],
   "source": [
    "df[(df.wears_glasses == 'yes') & (df.open_browser_tabs > 40)].favorite_fruit.value_counts()"
   ]
  },
  {
   "cell_type": "markdown",
   "metadata": {},
   "source": [
    "- What percentage of people have a netflix consumption lower than 7? `.0716`"
   ]
  },
  {
   "cell_type": "code",
   "execution_count": 24,
   "metadata": {},
   "outputs": [
    {
     "data": {
      "text/plain": [
       "0.0716"
      ]
     },
     "execution_count": 24,
     "metadata": {},
     "output_type": "execute_result"
    }
   ],
   "source": [
    "(df.netflix_consumption < 7).mean()"
   ]
  },
  {
   "cell_type": "markdown",
   "metadata": {},
   "source": [
    "- What is the average netflix consumption for people with less than 30 open\n",
    "  browser tabs? `9.91935`"
   ]
  },
  {
   "cell_type": "code",
   "execution_count": 27,
   "metadata": {},
   "outputs": [
    {
     "data": {
      "text/plain": [
       "9.91935736918227"
      ]
     },
     "execution_count": 27,
     "metadata": {},
     "output_type": "execute_result"
    }
   ],
   "source": [
    "df[df.open_browser_tabs < 30].netflix_consumption.mean()"
   ]
  },
  {
   "cell_type": "markdown",
   "metadata": {},
   "source": [
    "- How many people *don't* wear glasses, have a favorite animal of a panda, have\n",
    "  a favorite fruit of blueberries, and have more than 60 open browser tabs? What\n",
    "  is the median netflix consumption for this group? What is the most common\n",
    "  favorite vegetable for this group? `46`, `10.455`, `potato`"
   ]
  },
  {
   "cell_type": "code",
   "execution_count": null,
   "metadata": {},
   "outputs": [],
   "source": [
    "# create several boolean mask and combine them together\n",
    "no_glasses = df.wears_glasses == 'no'\n",
    "loves_pandas = df.favorite_animal == 'panda'\n",
    "too_many_tabes = df.open_browser_tabs > 60\n",
    "likes_blueberries = df.favorite_fruit == 'blueberries'\n",
    "\n",
    "mask = no_glasses & loves_pandas & too_many_tabes & likes_blueberries"
   ]
  },
  {
   "cell_type": "code",
   "execution_count": 31,
   "metadata": {},
   "outputs": [
    {
     "data": {
      "text/plain": [
       "(46, 6)"
      ]
     },
     "execution_count": 31,
     "metadata": {},
     "output_type": "execute_result"
    }
   ],
   "source": [
    "df[mask].shape"
   ]
  },
  {
   "cell_type": "code",
   "execution_count": 30,
   "metadata": {},
   "outputs": [
    {
     "data": {
      "text/plain": [
       "10.45479760071613"
      ]
     },
     "execution_count": 30,
     "metadata": {},
     "output_type": "execute_result"
    }
   ],
   "source": [
    "df[mask].netflix_consumption.median()"
   ]
  },
  {
   "cell_type": "code",
   "execution_count": 33,
   "metadata": {},
   "outputs": [
    {
     "data": {
      "text/plain": [
       "potato             19\n",
       "brussel sprouts    14\n",
       "squash             13\n",
       "Name: favorite_vegetable, dtype: int64"
      ]
     },
     "execution_count": 33,
     "metadata": {},
     "output_type": "execute_result"
    }
   ],
   "source": [
    "df[mask].favorite_vegetable.value_counts()"
   ]
  },
  {
   "cell_type": "code",
   "execution_count": 37,
   "metadata": {},
   "outputs": [
    {
     "data": {
      "text/html": [
       "<div>\n",
       "<style scoped>\n",
       "    .dataframe tbody tr th:only-of-type {\n",
       "        vertical-align: middle;\n",
       "    }\n",
       "\n",
       "    .dataframe tbody tr th {\n",
       "        vertical-align: top;\n",
       "    }\n",
       "\n",
       "    .dataframe thead th {\n",
       "        text-align: right;\n",
       "    }\n",
       "</style>\n",
       "<table border=\"1\" class=\"dataframe\">\n",
       "  <thead>\n",
       "    <tr style=\"text-align: right;\">\n",
       "      <th></th>\n",
       "      <th>favorite_animal</th>\n",
       "      <th>favorite_vegetable</th>\n",
       "      <th>favorite_fruit</th>\n",
       "      <th>wears_glasses</th>\n",
       "      <th>netflix_consumption</th>\n",
       "      <th>open_browser_tabs</th>\n",
       "    </tr>\n",
       "  </thead>\n",
       "  <tbody>\n",
       "    <tr>\n",
       "      <th>215</th>\n",
       "      <td>panda</td>\n",
       "      <td>potato</td>\n",
       "      <td>blueberries</td>\n",
       "      <td>no</td>\n",
       "      <td>11.948934</td>\n",
       "      <td>88</td>\n",
       "    </tr>\n",
       "    <tr>\n",
       "      <th>440</th>\n",
       "      <td>panda</td>\n",
       "      <td>potato</td>\n",
       "      <td>blueberries</td>\n",
       "      <td>no</td>\n",
       "      <td>13.016554</td>\n",
       "      <td>89</td>\n",
       "    </tr>\n",
       "    <tr>\n",
       "      <th>631</th>\n",
       "      <td>panda</td>\n",
       "      <td>potato</td>\n",
       "      <td>blueberries</td>\n",
       "      <td>no</td>\n",
       "      <td>10.521033</td>\n",
       "      <td>83</td>\n",
       "    </tr>\n",
       "    <tr>\n",
       "      <th>775</th>\n",
       "      <td>panda</td>\n",
       "      <td>brussel sprouts</td>\n",
       "      <td>blueberries</td>\n",
       "      <td>no</td>\n",
       "      <td>7.956600</td>\n",
       "      <td>76</td>\n",
       "    </tr>\n",
       "    <tr>\n",
       "      <th>895</th>\n",
       "      <td>panda</td>\n",
       "      <td>squash</td>\n",
       "      <td>blueberries</td>\n",
       "      <td>no</td>\n",
       "      <td>10.788124</td>\n",
       "      <td>84</td>\n",
       "    </tr>\n",
       "    <tr>\n",
       "      <th>1000</th>\n",
       "      <td>panda</td>\n",
       "      <td>potato</td>\n",
       "      <td>blueberries</td>\n",
       "      <td>no</td>\n",
       "      <td>10.521184</td>\n",
       "      <td>89</td>\n",
       "    </tr>\n",
       "    <tr>\n",
       "      <th>1045</th>\n",
       "      <td>panda</td>\n",
       "      <td>squash</td>\n",
       "      <td>blueberries</td>\n",
       "      <td>no</td>\n",
       "      <td>7.473376</td>\n",
       "      <td>85</td>\n",
       "    </tr>\n",
       "    <tr>\n",
       "      <th>1064</th>\n",
       "      <td>panda</td>\n",
       "      <td>potato</td>\n",
       "      <td>blueberries</td>\n",
       "      <td>no</td>\n",
       "      <td>8.495721</td>\n",
       "      <td>84</td>\n",
       "    </tr>\n",
       "    <tr>\n",
       "      <th>1155</th>\n",
       "      <td>panda</td>\n",
       "      <td>brussel sprouts</td>\n",
       "      <td>blueberries</td>\n",
       "      <td>no</td>\n",
       "      <td>13.694328</td>\n",
       "      <td>84</td>\n",
       "    </tr>\n",
       "    <tr>\n",
       "      <th>1161</th>\n",
       "      <td>panda</td>\n",
       "      <td>brussel sprouts</td>\n",
       "      <td>blueberries</td>\n",
       "      <td>no</td>\n",
       "      <td>12.481761</td>\n",
       "      <td>73</td>\n",
       "    </tr>\n",
       "    <tr>\n",
       "      <th>1189</th>\n",
       "      <td>panda</td>\n",
       "      <td>potato</td>\n",
       "      <td>blueberries</td>\n",
       "      <td>no</td>\n",
       "      <td>11.120507</td>\n",
       "      <td>73</td>\n",
       "    </tr>\n",
       "    <tr>\n",
       "      <th>1190</th>\n",
       "      <td>panda</td>\n",
       "      <td>brussel sprouts</td>\n",
       "      <td>blueberries</td>\n",
       "      <td>no</td>\n",
       "      <td>8.258191</td>\n",
       "      <td>73</td>\n",
       "    </tr>\n",
       "    <tr>\n",
       "      <th>1472</th>\n",
       "      <td>panda</td>\n",
       "      <td>potato</td>\n",
       "      <td>blueberries</td>\n",
       "      <td>no</td>\n",
       "      <td>8.148575</td>\n",
       "      <td>79</td>\n",
       "    </tr>\n",
       "    <tr>\n",
       "      <th>1485</th>\n",
       "      <td>panda</td>\n",
       "      <td>brussel sprouts</td>\n",
       "      <td>blueberries</td>\n",
       "      <td>no</td>\n",
       "      <td>10.371062</td>\n",
       "      <td>65</td>\n",
       "    </tr>\n",
       "    <tr>\n",
       "      <th>1527</th>\n",
       "      <td>panda</td>\n",
       "      <td>squash</td>\n",
       "      <td>blueberries</td>\n",
       "      <td>no</td>\n",
       "      <td>15.847422</td>\n",
       "      <td>78</td>\n",
       "    </tr>\n",
       "    <tr>\n",
       "      <th>1652</th>\n",
       "      <td>panda</td>\n",
       "      <td>potato</td>\n",
       "      <td>blueberries</td>\n",
       "      <td>no</td>\n",
       "      <td>12.404817</td>\n",
       "      <td>83</td>\n",
       "    </tr>\n",
       "    <tr>\n",
       "      <th>1706</th>\n",
       "      <td>panda</td>\n",
       "      <td>squash</td>\n",
       "      <td>blueberries</td>\n",
       "      <td>no</td>\n",
       "      <td>5.759472</td>\n",
       "      <td>87</td>\n",
       "    </tr>\n",
       "    <tr>\n",
       "      <th>1723</th>\n",
       "      <td>panda</td>\n",
       "      <td>brussel sprouts</td>\n",
       "      <td>blueberries</td>\n",
       "      <td>no</td>\n",
       "      <td>11.035817</td>\n",
       "      <td>62</td>\n",
       "    </tr>\n",
       "    <tr>\n",
       "      <th>1892</th>\n",
       "      <td>panda</td>\n",
       "      <td>potato</td>\n",
       "      <td>blueberries</td>\n",
       "      <td>no</td>\n",
       "      <td>9.837958</td>\n",
       "      <td>62</td>\n",
       "    </tr>\n",
       "    <tr>\n",
       "      <th>1893</th>\n",
       "      <td>panda</td>\n",
       "      <td>potato</td>\n",
       "      <td>blueberries</td>\n",
       "      <td>no</td>\n",
       "      <td>12.060277</td>\n",
       "      <td>66</td>\n",
       "    </tr>\n",
       "    <tr>\n",
       "      <th>2212</th>\n",
       "      <td>panda</td>\n",
       "      <td>brussel sprouts</td>\n",
       "      <td>blueberries</td>\n",
       "      <td>no</td>\n",
       "      <td>13.467079</td>\n",
       "      <td>76</td>\n",
       "    </tr>\n",
       "    <tr>\n",
       "      <th>2287</th>\n",
       "      <td>panda</td>\n",
       "      <td>potato</td>\n",
       "      <td>blueberries</td>\n",
       "      <td>no</td>\n",
       "      <td>10.388562</td>\n",
       "      <td>86</td>\n",
       "    </tr>\n",
       "    <tr>\n",
       "      <th>2321</th>\n",
       "      <td>panda</td>\n",
       "      <td>brussel sprouts</td>\n",
       "      <td>blueberries</td>\n",
       "      <td>no</td>\n",
       "      <td>13.536174</td>\n",
       "      <td>81</td>\n",
       "    </tr>\n",
       "    <tr>\n",
       "      <th>2417</th>\n",
       "      <td>panda</td>\n",
       "      <td>potato</td>\n",
       "      <td>blueberries</td>\n",
       "      <td>no</td>\n",
       "      <td>11.126575</td>\n",
       "      <td>71</td>\n",
       "    </tr>\n",
       "    <tr>\n",
       "      <th>2603</th>\n",
       "      <td>panda</td>\n",
       "      <td>potato</td>\n",
       "      <td>blueberries</td>\n",
       "      <td>no</td>\n",
       "      <td>7.170269</td>\n",
       "      <td>74</td>\n",
       "    </tr>\n",
       "    <tr>\n",
       "      <th>2647</th>\n",
       "      <td>panda</td>\n",
       "      <td>brussel sprouts</td>\n",
       "      <td>blueberries</td>\n",
       "      <td>no</td>\n",
       "      <td>8.207086</td>\n",
       "      <td>82</td>\n",
       "    </tr>\n",
       "    <tr>\n",
       "      <th>2749</th>\n",
       "      <td>panda</td>\n",
       "      <td>brussel sprouts</td>\n",
       "      <td>blueberries</td>\n",
       "      <td>no</td>\n",
       "      <td>10.967248</td>\n",
       "      <td>78</td>\n",
       "    </tr>\n",
       "    <tr>\n",
       "      <th>2779</th>\n",
       "      <td>panda</td>\n",
       "      <td>squash</td>\n",
       "      <td>blueberries</td>\n",
       "      <td>no</td>\n",
       "      <td>8.891346</td>\n",
       "      <td>65</td>\n",
       "    </tr>\n",
       "    <tr>\n",
       "      <th>3033</th>\n",
       "      <td>panda</td>\n",
       "      <td>potato</td>\n",
       "      <td>blueberries</td>\n",
       "      <td>no</td>\n",
       "      <td>8.223583</td>\n",
       "      <td>78</td>\n",
       "    </tr>\n",
       "    <tr>\n",
       "      <th>3034</th>\n",
       "      <td>panda</td>\n",
       "      <td>squash</td>\n",
       "      <td>blueberries</td>\n",
       "      <td>no</td>\n",
       "      <td>9.180810</td>\n",
       "      <td>82</td>\n",
       "    </tr>\n",
       "    <tr>\n",
       "      <th>3115</th>\n",
       "      <td>panda</td>\n",
       "      <td>squash</td>\n",
       "      <td>blueberries</td>\n",
       "      <td>no</td>\n",
       "      <td>10.052411</td>\n",
       "      <td>88</td>\n",
       "    </tr>\n",
       "    <tr>\n",
       "      <th>3634</th>\n",
       "      <td>panda</td>\n",
       "      <td>squash</td>\n",
       "      <td>blueberries</td>\n",
       "      <td>no</td>\n",
       "      <td>8.547776</td>\n",
       "      <td>75</td>\n",
       "    </tr>\n",
       "    <tr>\n",
       "      <th>3669</th>\n",
       "      <td>panda</td>\n",
       "      <td>potato</td>\n",
       "      <td>blueberries</td>\n",
       "      <td>no</td>\n",
       "      <td>10.967613</td>\n",
       "      <td>80</td>\n",
       "    </tr>\n",
       "    <tr>\n",
       "      <th>3732</th>\n",
       "      <td>panda</td>\n",
       "      <td>brussel sprouts</td>\n",
       "      <td>blueberries</td>\n",
       "      <td>no</td>\n",
       "      <td>13.573392</td>\n",
       "      <td>71</td>\n",
       "    </tr>\n",
       "    <tr>\n",
       "      <th>3740</th>\n",
       "      <td>panda</td>\n",
       "      <td>potato</td>\n",
       "      <td>blueberries</td>\n",
       "      <td>no</td>\n",
       "      <td>10.741732</td>\n",
       "      <td>61</td>\n",
       "    </tr>\n",
       "    <tr>\n",
       "      <th>3866</th>\n",
       "      <td>panda</td>\n",
       "      <td>brussel sprouts</td>\n",
       "      <td>blueberries</td>\n",
       "      <td>no</td>\n",
       "      <td>5.905466</td>\n",
       "      <td>64</td>\n",
       "    </tr>\n",
       "    <tr>\n",
       "      <th>3953</th>\n",
       "      <td>panda</td>\n",
       "      <td>squash</td>\n",
       "      <td>blueberries</td>\n",
       "      <td>no</td>\n",
       "      <td>9.206541</td>\n",
       "      <td>83</td>\n",
       "    </tr>\n",
       "    <tr>\n",
       "      <th>4030</th>\n",
       "      <td>panda</td>\n",
       "      <td>squash</td>\n",
       "      <td>blueberries</td>\n",
       "      <td>no</td>\n",
       "      <td>7.944691</td>\n",
       "      <td>64</td>\n",
       "    </tr>\n",
       "    <tr>\n",
       "      <th>4058</th>\n",
       "      <td>panda</td>\n",
       "      <td>potato</td>\n",
       "      <td>blueberries</td>\n",
       "      <td>no</td>\n",
       "      <td>8.344644</td>\n",
       "      <td>78</td>\n",
       "    </tr>\n",
       "    <tr>\n",
       "      <th>4170</th>\n",
       "      <td>panda</td>\n",
       "      <td>potato</td>\n",
       "      <td>blueberries</td>\n",
       "      <td>no</td>\n",
       "      <td>9.128692</td>\n",
       "      <td>75</td>\n",
       "    </tr>\n",
       "    <tr>\n",
       "      <th>4391</th>\n",
       "      <td>panda</td>\n",
       "      <td>squash</td>\n",
       "      <td>blueberries</td>\n",
       "      <td>no</td>\n",
       "      <td>10.748861</td>\n",
       "      <td>87</td>\n",
       "    </tr>\n",
       "    <tr>\n",
       "      <th>4403</th>\n",
       "      <td>panda</td>\n",
       "      <td>squash</td>\n",
       "      <td>blueberries</td>\n",
       "      <td>no</td>\n",
       "      <td>10.820437</td>\n",
       "      <td>84</td>\n",
       "    </tr>\n",
       "    <tr>\n",
       "      <th>4484</th>\n",
       "      <td>panda</td>\n",
       "      <td>brussel sprouts</td>\n",
       "      <td>blueberries</td>\n",
       "      <td>no</td>\n",
       "      <td>12.337730</td>\n",
       "      <td>89</td>\n",
       "    </tr>\n",
       "    <tr>\n",
       "      <th>4548</th>\n",
       "      <td>panda</td>\n",
       "      <td>squash</td>\n",
       "      <td>blueberries</td>\n",
       "      <td>no</td>\n",
       "      <td>8.169062</td>\n",
       "      <td>62</td>\n",
       "    </tr>\n",
       "    <tr>\n",
       "      <th>4620</th>\n",
       "      <td>panda</td>\n",
       "      <td>brussel sprouts</td>\n",
       "      <td>blueberries</td>\n",
       "      <td>no</td>\n",
       "      <td>10.636185</td>\n",
       "      <td>74</td>\n",
       "    </tr>\n",
       "    <tr>\n",
       "      <th>4705</th>\n",
       "      <td>panda</td>\n",
       "      <td>potato</td>\n",
       "      <td>blueberries</td>\n",
       "      <td>no</td>\n",
       "      <td>6.639107</td>\n",
       "      <td>61</td>\n",
       "    </tr>\n",
       "  </tbody>\n",
       "</table>\n",
       "</div>"
      ],
      "text/plain": [
       "     favorite_animal favorite_vegetable favorite_fruit wears_glasses  \\\n",
       "215            panda             potato    blueberries            no   \n",
       "440            panda             potato    blueberries            no   \n",
       "631            panda             potato    blueberries            no   \n",
       "775            panda    brussel sprouts    blueberries            no   \n",
       "895            panda             squash    blueberries            no   \n",
       "1000           panda             potato    blueberries            no   \n",
       "1045           panda             squash    blueberries            no   \n",
       "1064           panda             potato    blueberries            no   \n",
       "1155           panda    brussel sprouts    blueberries            no   \n",
       "1161           panda    brussel sprouts    blueberries            no   \n",
       "1189           panda             potato    blueberries            no   \n",
       "1190           panda    brussel sprouts    blueberries            no   \n",
       "1472           panda             potato    blueberries            no   \n",
       "1485           panda    brussel sprouts    blueberries            no   \n",
       "1527           panda             squash    blueberries            no   \n",
       "1652           panda             potato    blueberries            no   \n",
       "1706           panda             squash    blueberries            no   \n",
       "1723           panda    brussel sprouts    blueberries            no   \n",
       "1892           panda             potato    blueberries            no   \n",
       "1893           panda             potato    blueberries            no   \n",
       "2212           panda    brussel sprouts    blueberries            no   \n",
       "2287           panda             potato    blueberries            no   \n",
       "2321           panda    brussel sprouts    blueberries            no   \n",
       "2417           panda             potato    blueberries            no   \n",
       "2603           panda             potato    blueberries            no   \n",
       "2647           panda    brussel sprouts    blueberries            no   \n",
       "2749           panda    brussel sprouts    blueberries            no   \n",
       "2779           panda             squash    blueberries            no   \n",
       "3033           panda             potato    blueberries            no   \n",
       "3034           panda             squash    blueberries            no   \n",
       "3115           panda             squash    blueberries            no   \n",
       "3634           panda             squash    blueberries            no   \n",
       "3669           panda             potato    blueberries            no   \n",
       "3732           panda    brussel sprouts    blueberries            no   \n",
       "3740           panda             potato    blueberries            no   \n",
       "3866           panda    brussel sprouts    blueberries            no   \n",
       "3953           panda             squash    blueberries            no   \n",
       "4030           panda             squash    blueberries            no   \n",
       "4058           panda             potato    blueberries            no   \n",
       "4170           panda             potato    blueberries            no   \n",
       "4391           panda             squash    blueberries            no   \n",
       "4403           panda             squash    blueberries            no   \n",
       "4484           panda    brussel sprouts    blueberries            no   \n",
       "4548           panda             squash    blueberries            no   \n",
       "4620           panda    brussel sprouts    blueberries            no   \n",
       "4705           panda             potato    blueberries            no   \n",
       "\n",
       "      netflix_consumption  open_browser_tabs  \n",
       "215             11.948934                 88  \n",
       "440             13.016554                 89  \n",
       "631             10.521033                 83  \n",
       "775              7.956600                 76  \n",
       "895             10.788124                 84  \n",
       "1000            10.521184                 89  \n",
       "1045             7.473376                 85  \n",
       "1064             8.495721                 84  \n",
       "1155            13.694328                 84  \n",
       "1161            12.481761                 73  \n",
       "1189            11.120507                 73  \n",
       "1190             8.258191                 73  \n",
       "1472             8.148575                 79  \n",
       "1485            10.371062                 65  \n",
       "1527            15.847422                 78  \n",
       "1652            12.404817                 83  \n",
       "1706             5.759472                 87  \n",
       "1723            11.035817                 62  \n",
       "1892             9.837958                 62  \n",
       "1893            12.060277                 66  \n",
       "2212            13.467079                 76  \n",
       "2287            10.388562                 86  \n",
       "2321            13.536174                 81  \n",
       "2417            11.126575                 71  \n",
       "2603             7.170269                 74  \n",
       "2647             8.207086                 82  \n",
       "2749            10.967248                 78  \n",
       "2779             8.891346                 65  \n",
       "3033             8.223583                 78  \n",
       "3034             9.180810                 82  \n",
       "3115            10.052411                 88  \n",
       "3634             8.547776                 75  \n",
       "3669            10.967613                 80  \n",
       "3732            13.573392                 71  \n",
       "3740            10.741732                 61  \n",
       "3866             5.905466                 64  \n",
       "3953             9.206541                 83  \n",
       "4030             7.944691                 64  \n",
       "4058             8.344644                 78  \n",
       "4170             9.128692                 75  \n",
       "4391            10.748861                 87  \n",
       "4403            10.820437                 84  \n",
       "4484            12.337730                 89  \n",
       "4548             8.169062                 62  \n",
       "4620            10.636185                 74  \n",
       "4705             6.639107                 61  "
      ]
     },
     "execution_count": 37,
     "metadata": {},
     "output_type": "execute_result"
    }
   ],
   "source": [
    "subgroup = df[df.wears_glasses == 'no']\n",
    "subgroup = subgroup[subgroup.favorite_animal == 'panda']\n",
    "subgroup = subgroup[subgroup.open_browser_tabs > 60]\n",
    "subgroup = subgroup[subgroup.favorite_fruit == 'blueberries']\n",
    "subgroup"
   ]
  },
  {
   "cell_type": "markdown",
   "metadata": {},
   "source": [
    "- What is the least popular combination of favorite fruit and vegetable? `apple` and `potato`"
   ]
  },
  {
   "cell_type": "code",
   "execution_count": 39,
   "metadata": {},
   "outputs": [
    {
     "data": {
      "text/plain": [
       "favorite_fruit  favorite_vegetable\n",
       "apple           potato                512\n",
       "banana          squash                524\n",
       "apple           squash                555\n",
       "blueberries     brussel sprouts       555\n",
       "                potato                560\n",
       "apple           brussel sprouts       565\n",
       "banana          potato                570\n",
       "                brussel sprouts       576\n",
       "blueberries     squash                583\n",
       "dtype: int64"
      ]
     },
     "execution_count": 39,
     "metadata": {},
     "output_type": "execute_result"
    }
   ],
   "source": [
    "df.groupby(['favorite_fruit', 'favorite_vegetable']).size().sort_values() # sorts numerically"
   ]
  },
  {
   "cell_type": "code",
   "execution_count": 38,
   "metadata": {},
   "outputs": [
    {
     "data": {
      "text/plain": [
       "favorite_fruit  favorite_vegetable\n",
       "apple           brussel sprouts       565\n",
       "                potato                512\n",
       "                squash                555\n",
       "banana          brussel sprouts       576\n",
       "                potato                570\n",
       "                squash                524\n",
       "blueberries     brussel sprouts       555\n",
       "                potato                560\n",
       "                squash                583\n",
       "dtype: int64"
      ]
     },
     "execution_count": 38,
     "metadata": {},
     "output_type": "execute_result"
    }
   ],
   "source": [
    "df.groupby(['favorite_fruit', 'favorite_vegetable']).size()"
   ]
  },
  {
   "cell_type": "markdown",
   "metadata": {},
   "source": [
    "- Which combination of favorite animal and wearing glasses has the highest average\n",
    "  netflix consumption? people that wear glasses and prefer pandas"
   ]
  },
  {
   "cell_type": "code",
   "execution_count": 40,
   "metadata": {},
   "outputs": [
    {
     "data": {
      "text/plain": [
       "favorite_animal  wears_glasses\n",
       "frog             yes               9.834740\n",
       "cat              no                9.846183\n",
       "                 yes               9.884685\n",
       "dog              no                9.933246\n",
       "panda            no                9.946293\n",
       "frog             no                9.962311\n",
       "lemur            yes              10.010196\n",
       "                 no               10.024557\n",
       "dog              yes              10.087352\n",
       "panda            yes              10.092273\n",
       "Name: netflix_consumption, dtype: float64"
      ]
     },
     "execution_count": 40,
     "metadata": {},
     "output_type": "execute_result"
    }
   ],
   "source": [
    "df.groupby(['favorite_animal', 'wears_glasses']).netflix_consumption.mean().sort_values()"
   ]
  },
  {
   "cell_type": "code",
   "execution_count": 41,
   "metadata": {},
   "outputs": [
    {
     "data": {
      "text/html": [
       "<div>\n",
       "<style scoped>\n",
       "    .dataframe tbody tr th:only-of-type {\n",
       "        vertical-align: middle;\n",
       "    }\n",
       "\n",
       "    .dataframe tbody tr th {\n",
       "        vertical-align: top;\n",
       "    }\n",
       "\n",
       "    .dataframe thead th {\n",
       "        text-align: right;\n",
       "    }\n",
       "</style>\n",
       "<table border=\"1\" class=\"dataframe\">\n",
       "  <thead>\n",
       "    <tr style=\"text-align: right;\">\n",
       "      <th>wears_glasses</th>\n",
       "      <th>no</th>\n",
       "      <th>yes</th>\n",
       "    </tr>\n",
       "    <tr>\n",
       "      <th>favorite_animal</th>\n",
       "      <th></th>\n",
       "      <th></th>\n",
       "    </tr>\n",
       "  </thead>\n",
       "  <tbody>\n",
       "    <tr>\n",
       "      <th>cat</th>\n",
       "      <td>9.846183</td>\n",
       "      <td>9.884685</td>\n",
       "    </tr>\n",
       "    <tr>\n",
       "      <th>dog</th>\n",
       "      <td>9.933246</td>\n",
       "      <td>10.087352</td>\n",
       "    </tr>\n",
       "    <tr>\n",
       "      <th>frog</th>\n",
       "      <td>9.962311</td>\n",
       "      <td>9.834740</td>\n",
       "    </tr>\n",
       "    <tr>\n",
       "      <th>lemur</th>\n",
       "      <td>10.024557</td>\n",
       "      <td>10.010196</td>\n",
       "    </tr>\n",
       "    <tr>\n",
       "      <th>panda</th>\n",
       "      <td>9.946293</td>\n",
       "      <td>10.092273</td>\n",
       "    </tr>\n",
       "  </tbody>\n",
       "</table>\n",
       "</div>"
      ],
      "text/plain": [
       "wears_glasses           no        yes\n",
       "favorite_animal                      \n",
       "cat               9.846183   9.884685\n",
       "dog               9.933246  10.087352\n",
       "frog              9.962311   9.834740\n",
       "lemur            10.024557  10.010196\n",
       "panda             9.946293  10.092273"
      ]
     },
     "execution_count": 41,
     "metadata": {},
     "output_type": "execute_result"
    }
   ],
   "source": [
    "# values (numeric), rows (category), columns (category)\n",
    "df.pivot_table('netflix_consumption', 'favorite_animal', 'wears_glasses')"
   ]
  },
  {
   "cell_type": "markdown",
   "metadata": {},
   "source": [
    "- **Bonus**: for each of the above questions, what kind of visualization would\n",
    "  be the most effective in conveying your answer?"
   ]
  },
  {
   "cell_type": "code",
   "execution_count": null,
   "metadata": {},
   "outputs": [],
   "source": []
  }
 ],
 "metadata": {
  "kernelspec": {
   "display_name": "Python 3",
   "language": "python",
   "name": "python3"
  },
  "language_info": {
   "codemirror_mode": {
    "name": "ipython",
    "version": 3
   },
   "file_extension": ".py",
   "mimetype": "text/x-python",
   "name": "python",
   "nbconvert_exporter": "python",
   "pygments_lexer": "ipython3",
   "version": "3.7.4"
  }
 },
 "nbformat": 4,
 "nbformat_minor": 2
}
